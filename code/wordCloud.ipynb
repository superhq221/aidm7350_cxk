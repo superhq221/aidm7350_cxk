{
 "cells": [
  {
   "cell_type": "code",
   "execution_count": null,
   "metadata": {},
   "outputs": [],
   "source": [
    "%matplotlib inline\n",
    "import jieba\n",
    "import pandas as pd\n",
    "import re\n",
    "import matplotlib.pyplot as plt \n",
    "import matplotlib\n",
    "import seaborn as sns\n",
    "from wordcloud import WordCloud, ImageColorGenerator"
   ]
  },
  {
   "cell_type": "code",
   "execution_count": null,
   "metadata": {},
   "outputs": [],
   "source": [
    "stopWords = []\n",
    "with open('../data/stopwords-master/中文停用词表.txt','r', encoding = 'utf-8') as stopWordTxt:\n",
    "    for word in stopWordTxt:\n",
    "        stopWords.append(re.sub(r'[\\n]+','',word))\n",
    "stopWords.append('_')\n",
    "stopWords.append('-')\n",
    "stopWords.append('·')"
   ]
  },
  {
   "cell_type": "code",
   "execution_count": null,
   "metadata": {},
   "outputs": [],
   "source": [
    "def WordCloud_Draw(text,title):\n",
    "    textWhole = ' '.join(text.tolist())\n",
    "    sns.set(rc={'figure.figsize':(20,25)})\n",
    "\n",
    "    #Setup Wordcloud and generate the cloud\n",
    "    wordcloud = WordCloud(scale = 6, background_color=\"white\",font_path='C:\\Windows\\Fonts\\simkai.ttf').generate(textWhole)\n",
    "\n",
    "    #Plot the image\n",
    "    plt.figure()\n",
    "    plt.imshow(wordcloud, interpolation=\"bilinear\")\n",
    "    plt.axis(\"off\")\n",
    "    plt.margins(x=3, y=3)\n",
    "    plt.title('Word cloud of ' + title,size=36)\n",
    "    plt.show()"
   ]
  },
  {
   "cell_type": "code",
   "execution_count": null,
   "metadata": {},
   "outputs": [],
   "source": [
    "def WordCloud_Draw_Jieba(text, title, _specialWord = None):\n",
    "    if _specialWord:\n",
    "        for word in _specialWord:\n",
    "            jieba.add_word(word)\n",
    "    \n",
    "    textWhole = ' '.join(text.tolist())\n",
    "    wordlist_after_jieba = jieba.lcut(textWhole, cut_all = False,HMM=True)\n",
    "    #for word in wordlist_after_jieba:\n",
    "        #if word in stopWords:\n",
    "            #wordlist_after_jieba.remove(word)\n",
    "    wl_space_split = \",\".join(wordlist_after_jieba)\n",
    "\n",
    "    sns.set(rc={'figure.figsize':(20,25)})\n",
    "    my_wordcloud = WordCloud(scale = 6,background_color = 'white',font_path='C:\\Windows\\Fonts\\simkai.ttf').generate(wl_space_split)\n",
    "    #my_wordcloud.to_file(title+'.png')\n",
    "    plt.figure()\n",
    "    plt.imshow(my_wordcloud, interpolation=\"bilinear\")\n",
    "    plt.axis(\"off\")\n",
    "    plt.margins(x=3, y=3)\n",
    "    plt.title('Word cloud of '+ title,size=36)\n",
    "    plt.show()\n",
    "    return my_wordcloud"
   ]
  },
  {
   "cell_type": "code",
   "execution_count": null,
   "metadata": {},
   "outputs": [],
   "source": [
    "specialWord = ['鸡你太美','蔡徐坤','小蔡','热爱无罪','蔡pd','蔡PD','蔡代表','坤坤','自黑']\n",
    "for word in specialWord:\n",
    "    jieba.add_word(word)"
   ]
  },
  {
   "cell_type": "code",
   "execution_count": null,
   "metadata": {},
   "outputs": [],
   "source": [
    "fileName = ['2','3','4','5']\n",
    "Construction = pd.read_csv('../data/Comments/机构_媒体/1.csv')\n",
    "Construction = Construction.drop_duplicates()\n",
    "#print(Construction.shape)\n",
    "for name in fileName:\n",
    "    temp = pd.read_csv('../data/Comments/机构_媒体/%s.csv' %name)\n",
    "    #print(temp.shape)\n",
    "    #print(temp.drop_duplicates().shape)\n",
    "    Construction = pd.concat([Construction,temp.drop_duplicates()])\n",
    "Construction = Construction.reset_index()\n",
    "Construction.drop('index', axis = 1, inplace = True)"
   ]
  },
  {
   "cell_type": "code",
   "execution_count": null,
   "metadata": {},
   "outputs": [],
   "source": [
    "fileName = ['3','4','5']\n",
    "internet_celebrities = pd.read_csv('../data/Comments/媒体人_网民/2.csv')\n",
    "internet_celebrities = internet_celebrities.drop_duplicates()\n",
    "#print(Construction.shape)\n",
    "for name in fileName:\n",
    "    temp = pd.read_csv('../data/Comments/媒体人_网民/%s.csv' %name)\n",
    "    #print(temp.shape)\n",
    "    #print(temp.drop_duplicates().shape)\n",
    "    internet_celebrities = pd.concat([internet_celebrities,temp.drop_duplicates()])\n",
    "internet_celebrities = internet_celebrities.reset_index()\n",
    "internet_celebrities.drop('index', axis = 1, inplace = True)"
   ]
  },
  {
   "cell_type": "markdown",
   "metadata": {},
   "source": [
    "## UserGrouping"
   ]
  },
  {
   "cell_type": "code",
   "execution_count": null,
   "metadata": {},
   "outputs": [],
   "source": [
    "fansData = pd.read_csv('../data/FansID/cxk1.csv',encoding='utf-8')\n",
    "fileName = ['2','3','4','5']\n",
    "fansData = fansData.drop_duplicates()\n",
    "print(fansData.shape)\n",
    "for name in fileName:\n",
    "    temp = pd.read_csv('../data/FansID/cxk%s.csv' %name)\n",
    "    #print(temp.shape)\n",
    "    print(temp.drop_duplicates().shape)\n",
    "    fansData = pd.concat([fansData,temp.drop_duplicates()])"
   ]
  },
  {
   "cell_type": "code",
   "execution_count": null,
   "metadata": {},
   "outputs": [],
   "source": [
    "specialWord = ['蔡徐坤','小蔡','蔡pd','蔡PD','蔡代表','坤坤','菜菜','蔡蔡','KUN','小葵','爱困']\n",
    "for word in specialWord:\n",
    "    jieba.add_word(word)"
   ]
  },
  {
   "cell_type": "code",
   "execution_count": null,
   "metadata": {},
   "outputs": [],
   "source": [
    "stopWords = []\n",
    "with open('../data/stopwords-master/中文停用词表.txt','r', encoding = 'utf-8') as stopWordTxt:\n",
    "    for word in stopWordTxt:\n",
    "        stopWords.append(re.sub(r'[\\n]+','',word))\n",
    "stopWords.append('_')\n",
    "stopWords.append('-')\n",
    "stopWords.append('·')\n",
    "stopWords.append('丶')\n",
    "stopWords.append('__')\n",
    "stopWords.append('_')\n",
    "stopWords.append('_')"
   ]
  },
  {
   "cell_type": "code",
   "execution_count": null,
   "metadata": {},
   "outputs": [],
   "source": [
    "userID = fansData['Usename'].unique()\n",
    "userFeature = [jieba.lcut(x.upper()) for x in userID]\n",
    "print(len(userFeature))\n",
    "countD = {}\n",
    "for ele in userFeature:\n",
    "    for user in ele:\n",
    "        if user not in stopWords:\n",
    "            if user in countD:\n",
    "                countD[user] += 1\n",
    "            else:\n",
    "                countD[user] = 1\n",
    "\n",
    "dfTest = pd.DataFrame()\n",
    "dfTest['seg'] = countD.keys()\n",
    "dfTest['count'] = countD.values()\n",
    "#dfTest.sort_values(by = 'count', ascending = False).head(50)\n",
    "#dfTest.sort_values(by = 'count', ascending = False).iloc[50:80]"
   ]
  },
  {
   "cell_type": "code",
   "execution_count": null,
   "metadata": {},
   "outputs": [],
   "source": [
    "# 只要满足下面的一个特征，就被认为是粉丝\n",
    "firstFeatures = [\n",
    "    'KUN',\n",
    "    'AK',\n",
    "    '坤',\n",
    "    'CXK',\n",
    "    '菜菜',\n",
    "    '困困',\n",
    "    '菜困',\n",
    "    '小困',\n",
    "    '爱困',\n",
    "    '802',\n",
    "    '82',\n",
    "    'AUGUST',\n",
    "    '八月',\n",
    "    '狮子',\n",
    "    '蔡',\n",
    "    '葵',\n",
    "    '菜',\n",
    "    '短K腿U猫N'\n",
    "]"
   ]
  },
  {
   "cell_type": "code",
   "execution_count": null,
   "metadata": {},
   "outputs": [],
   "source": []
  },
  {
   "cell_type": "code",
   "execution_count": null,
   "metadata": {},
   "outputs": [],
   "source": [
    "fansIndex = []\n",
    "temp = 0\n",
    "for index, row in Construction.iterrows():\n",
    "    for feature in firstFeatures:\n",
    "        if feature in str(row['Usename'].upper()):\n",
    "            fansIndex.append(index)\n",
    "            break"
   ]
  },
  {
   "cell_type": "code",
   "execution_count": null,
   "metadata": {},
   "outputs": [],
   "source": [
    "con_FansComments = Construction.loc[fansIndex]\n",
    "con_FansComments.shape"
   ]
  },
  {
   "cell_type": "code",
   "execution_count": null,
   "metadata": {},
   "outputs": [],
   "source": [
    "temp = Construction.append(con_FansComments)\n",
    "con_OtherComments = temp.drop_duplicates(keep=False)\n",
    "con_OtherComments.shape"
   ]
  },
  {
   "cell_type": "code",
   "execution_count": null,
   "metadata": {},
   "outputs": [],
   "source": [
    "fansIndex = []\n",
    "for index, row in internet_celebrities.iterrows():\n",
    "    for feature in firstFeatures:\n",
    "        if feature in str(row['Usename'].upper()):\n",
    "            fansIndex.append(index)\n",
    "            break"
   ]
  },
  {
   "cell_type": "code",
   "execution_count": null,
   "metadata": {},
   "outputs": [],
   "source": [
    "int_FansComments = internet_celebrities.loc[fansIndex]\n",
    "int_FansComments.shape"
   ]
  },
  {
   "cell_type": "code",
   "execution_count": null,
   "metadata": {},
   "outputs": [],
   "source": [
    "temp = internet_celebrities.append(int_FansComments)\n",
    "int_OtherComments = temp.drop_duplicates(keep=False)\n",
    "int_OtherComments.shape"
   ]
  },
  {
   "cell_type": "code",
   "execution_count": null,
   "metadata": {},
   "outputs": [],
   "source": [
    "# 二轮粉丝认证，过滤混搭类似 i蔡k徐u坤n 的情况\n",
    "# 但是也会有类似FuckAKN的东西混进来\n",
    "# 由于这次筛选得到的结果只有100+，所以不加以考虑\n",
    "secondFeatures = [\n",
    "    ['','徐','坤'],\n",
    "    ['K','U','N']\n",
    "]\n",
    "\n",
    "fansIndex = []\n",
    "for index, row in int_OtherComments.iterrows():\n",
    "    for feature in secondFeatures:\n",
    "        if (feature[0] in str(row['Usename'])) and (feature[1] in str(row['Usename'].upper())) and (feature[2] in str(row['Usename'].upper())):\n",
    "            fansIndex.append(index)\n",
    "            break\n",
    "restComments = int_OtherComments.loc[fansIndex]"
   ]
  },
  {
   "cell_type": "code",
   "execution_count": null,
   "metadata": {},
   "outputs": [],
   "source": [
    "con_FansComments\n",
    "con_OtherComments\n",
    "int_FansComments\n",
    "int_OtherComments"
   ]
  },
  {
   "cell_type": "markdown",
   "metadata": {},
   "source": [
    "## ContentAnalysis"
   ]
  },
  {
   "cell_type": "code",
   "execution_count": null,
   "metadata": {
    "scrolled": true
   },
   "outputs": [],
   "source": [
    "con_FansComments[con_FansComments['Like_count']>0]['Comments'].shape"
   ]
  },
  {
   "cell_type": "code",
   "execution_count": null,
   "metadata": {},
   "outputs": [],
   "source": [
    "comments = con_FansComments[con_FansComments['Like_count']>1]['Comments']\n",
    "#comments = con_FansComments['Comments']\n",
    "comments = comments.apply(lambda x: re.sub(r\"[：“”【】蔡徐坤￥……&\\*哈啊（）\\\"]+\",'',x))\n",
    "title = 'FansCommentsFromMedia'\n",
    "WordCloud_Draw_Jieba(comments,title)#.to_file(title+'.png')"
   ]
  },
  {
   "cell_type": "code",
   "execution_count": null,
   "metadata": {},
   "outputs": [],
   "source": [
    "comments = con_OtherComments[con_OtherComments['Like_count']>1]['Comments']\n",
    "#comments = con_OtherComments['Comments']\n",
    "comments = comments.apply(lambda x: re.sub(r\"[：“”【】蔡徐坤￥……&\\哈啊*（）\\\"]+\",'',x))\n",
    "title = 'OtherCommentsFromMedia'\n",
    "WordCloud_Draw_Jieba(comments,title)#.to_file(title+'.png')"
   ]
  },
  {
   "cell_type": "code",
   "execution_count": null,
   "metadata": {},
   "outputs": [],
   "source": [
    "#comments = int_FansComments[int_FansComments['Like_count']>1]['Comments']\n",
    "comments = int_FansComments[int_FansComments['Like_count']<2]['Comments']\n",
    "#comments = int_FansComments['Comments']\n",
    "comments = comments.apply(lambda x: re.sub(r\"[：“”【】蔡徐坤哈啊￥……&*（）\\\"]+\",'',x))\n",
    "title = 'FansCommentsFromInternetCelebrities'\n",
    "WordCloud_Draw_Jieba(comments,title)#.to_file(title+'.png')"
   ]
  },
  {
   "cell_type": "code",
   "execution_count": null,
   "metadata": {},
   "outputs": [],
   "source": [
    "#my_wordcloud.to_file(title+'.png')"
   ]
  },
  {
   "cell_type": "code",
   "execution_count": null,
   "metadata": {},
   "outputs": [],
   "source": [
    "comments = int_FansComments[int_FansComments['Like_count']>1]['Comments']\n",
    "#comments = int_FansComments[int_FansComments['Like_count']<2]['Comments']\n",
    "#comments = int_OtherComments['Comments']\n",
    "comments = comments.apply(lambda x: re.sub(r\"[：“”【】蔡徐坤哈啊￥……&*（）\\\"]+\",'',x))\n",
    "title = 'OtherCommentsFromInternetCelebrities'\n",
    "WordCloud_Draw_Jieba(comments,title)#.to_file(title+'.png')"
   ]
  },
  {
   "cell_type": "code",
   "execution_count": null,
   "metadata": {},
   "outputs": [],
   "source": [
    "int_OtherComments"
   ]
  },
  {
   "cell_type": "code",
   "execution_count": null,
   "metadata": {},
   "outputs": [],
   "source": [
    "int_FansComments.shape"
   ]
  },
  {
   "cell_type": "code",
   "execution_count": null,
   "metadata": {},
   "outputs": [],
   "source": [
    "int_FansComments[int_FansComments['Comments'].str.contains('可爱')]"
   ]
  },
  {
   "cell_type": "code",
   "execution_count": null,
   "metadata": {},
   "outputs": [],
   "source": []
  },
  {
   "cell_type": "markdown",
   "metadata": {},
   "source": [
    "## DifferentSentiment"
   ]
  },
  {
   "cell_type": "code",
   "execution_count": null,
   "metadata": {},
   "outputs": [],
   "source": [
    "intComments = pd.read_csv('../data/Comments/媒体人_网民/fullIndivcom.csv')\n",
    "conComments = pd.read_csv('../data/Comments/机构_媒体/fullmediaCom.csv')"
   ]
  },
  {
   "cell_type": "code",
   "execution_count": null,
   "metadata": {},
   "outputs": [],
   "source": [
    "conComments.drop(['Unnamed: 0'], inplace = True, axis = 1)#'Unnamed: 0'\n",
    "intComments.drop(['Unnamed: 0'], inplace = True, axis = 1)#'Unnamed: 0'"
   ]
  },
  {
   "cell_type": "code",
   "execution_count": null,
   "metadata": {},
   "outputs": [],
   "source": [
    "conComments.head(1)"
   ]
  },
  {
   "cell_type": "code",
   "execution_count": null,
   "metadata": {},
   "outputs": [],
   "source": [
    "intComments.head(1)"
   ]
  },
  {
   "cell_type": "code",
   "execution_count": null,
   "metadata": {},
   "outputs": [],
   "source": [
    "comments = conComments[conComments['sentiments']>0.55]['Comments']\n",
    "#comments = int_FansComments[int_FansComments['Like_count']<2]['Comments']\n",
    "#comments = int_OtherComments['Comments']\n",
    "comments = comments.apply(lambda x: re.sub(r\"[：“”【】蔡徐坤哈啊￥……&*（）\\\"]+\",'',x))\n",
    "title = 'OtherCommentsFromInternetCelebrities'\n",
    "WordCloud_Draw_Jieba(comments,title)#.to_file(title+'.png')"
   ]
  },
  {
   "cell_type": "code",
   "execution_count": null,
   "metadata": {},
   "outputs": [],
   "source": [
    "comments = conComments[(conComments['sentiments']>0.30)|(conComments['sentiments']<0.60)]['Comments']\n",
    "#comments = int_FansComments[int_FansComments['Like_count']<2]['Comments']\n",
    "#comments = int_OtherComments['Comments']\n",
    "comments = comments.apply(lambda x: re.sub(r\"[：“”【】蔡徐坤哈啊￥……&*（）\\\"]+\",'',x))\n",
    "title = 'OtherCommentsFromInternetCelebrities'\n",
    "WordCloud_Draw_Jieba(comments,title)#.to_file(title+'.png')"
   ]
  },
  {
   "cell_type": "code",
   "execution_count": null,
   "metadata": {},
   "outputs": [],
   "source": [
    "len(comments)"
   ]
  },
  {
   "cell_type": "code",
   "execution_count": null,
   "metadata": {},
   "outputs": [],
   "source": [
    "comments = conComments[(conComments['sentiments']<0.35)&(conComments['isFan'] == True)]['Comments']\n",
    "print(len(comments))\n",
    "#comments = int_FansComments[int_FansComments['Like_count']<2]['Comments']\n",
    "#comments = int_OtherComments['Comments']\n",
    "comments = comments.apply(lambda x: re.sub(r\"[：“”【】蔡徐坤哈啊￥……&*（）\\\"]+\",'',x))\n",
    "title = 'FansCommentsFromMedia'\n",
    "WordCloud_Draw_Jieba(comments,title)#.to_file(title+'.png')"
   ]
  },
  {
   "cell_type": "code",
   "execution_count": null,
   "metadata": {},
   "outputs": [],
   "source": [
    "comments = conComments[(conComments['sentiments']<0.35)&(conComments['isFan'] == False)]['Comments']\n",
    "print(len(comments))\n",
    "#comments = int_FansComments[int_FansComments['Like_count']<2]['Comments']\n",
    "#comments = int_OtherComments['Comments']\n",
    "comments = comments.apply(lambda x: re.sub(r\"[：“”【】蔡徐坤哈啊￥……&*（）\\\"]+\",'',x))\n",
    "title = 'OtherCommentsFromMedia'\n",
    "WordCloud_Draw_Jieba(comments,title)#.to_file(title+'.png')"
   ]
  },
  {
   "cell_type": "code",
   "execution_count": null,
   "metadata": {},
   "outputs": [],
   "source": [
    "comments = conComments[(conComments['sentiments']<0.35)&(conComments['isFan'] == True)]['Comments']\n",
    "print(len(comments))\n",
    "#comments = int_FansComments[int_FansComments['Like_count']<2]['Comments']\n",
    "#comments = int_OtherComments['Comments']\n",
    "comments = comments.apply(lambda x: re.sub(r\"[：“”【】蔡徐坤哈啊￥……&*（）\\\"]+\",'',x))\n",
    "title = 'FansCommentsFromMedia'\n",
    "WordCloud_Draw_Jieba(comments,title)#.to_file(title+'.png')"
   ]
  },
  {
   "cell_type": "code",
   "execution_count": null,
   "metadata": {},
   "outputs": [],
   "source": [
    "comments[comments.str.contains('高冷')]"
   ]
  },
  {
   "cell_type": "code",
   "execution_count": null,
   "metadata": {},
   "outputs": [],
   "source": [
    "comments = conComments[(conComments['sentiments']<0.25)&(conComments['isFan'] == False)]['Comments']\n",
    "print(len(comments))\n",
    "#comments = int_FansComments[int_FansComments['Like_count']<2]['Comments']\n",
    "#comments = int_OtherComments['Comments']\n",
    "comments = comments.apply(lambda x: re.sub(r\"[：“”【】蔡徐坤哈啊￥……&*（）\\\"]+\",'',x))\n",
    "title = 'OtherCommentsFromMedia'\n",
    "WordCloud_Draw_Jieba(comments,title)#.to_file(title+'.png')"
   ]
  },
  {
   "cell_type": "code",
   "execution_count": null,
   "metadata": {},
   "outputs": [],
   "source": [
    "len(comments)"
   ]
  },
  {
   "cell_type": "code",
   "execution_count": null,
   "metadata": {},
   "outputs": [],
   "source": [
    "intComments.columns"
   ]
  },
  {
   "cell_type": "code",
   "execution_count": null,
   "metadata": {},
   "outputs": [],
   "source": [
    "fansIndex = []\n",
    "temp = 0\n",
    "for index, row in intComments.iterrows():\n",
    "    for feature in firstFeatures:\n",
    "        if feature in str(row['Usename'].upper()):\n",
    "            fansIndex.append(index)\n",
    "            break\n",
    "int_FansComments = intComments.loc[fansIndex]\n",
    "int_FansComments.shape\n",
    "\n",
    "temp = intComments.append(int_FansComments)\n",
    "int_OtherComments = temp.drop_duplicates(keep=False)\n",
    "int_OtherComments.shape"
   ]
  },
  {
   "cell_type": "code",
   "execution_count": null,
   "metadata": {},
   "outputs": [],
   "source": []
  },
  {
   "cell_type": "code",
   "execution_count": null,
   "metadata": {},
   "outputs": [],
   "source": []
  },
  {
   "cell_type": "code",
   "execution_count": null,
   "metadata": {},
   "outputs": [],
   "source": []
  },
  {
   "cell_type": "markdown",
   "metadata": {},
   "source": [
    "## TopicModeling"
   ]
  },
  {
   "cell_type": "code",
   "execution_count": null,
   "metadata": {},
   "outputs": [],
   "source": [
    "from gensim import corpora, models, similarities\n",
    "def topicModel(df):\n",
    "    # Get comments\n",
    "    # Construction  # internet_celebrities\n",
    " \n",
    "    #comments = df[df['Like_count']>1]['Comments']\n",
    "    comments = df['Comments']\n",
    "    # 去掉一些不必要的标点和废话\n",
    "    comments = comments.apply(lambda x: re.sub(r\"[\\:，：？！\\s“”\\#蔡徐坤啊哈了【】￥……&*（）\\\"]+\",'',x))\n",
    "\n",
    "    # 切分之后去掉里面的停用词\n",
    "    tokenDic = [jieba.lcut(x) for x in comments]\n",
    "    for i in range(len(tokenDic)):\n",
    "        for word in tokenDic[i]:\n",
    "            if word in stopWords:\n",
    "                tokenDic[i].remove(word)\n",
    "\n",
    "    dictionary = corpora.Dictionary(tokenDic)\n",
    "    corpus = [dictionary.doc2bow(text) for text in tokenDic]\n",
    "    # 需要的topic数量\n",
    "    n_topics = 5\n",
    "\n",
    "    lda_model = models.ldamodel.LdaModel(corpus=corpus,\n",
    "                                         id2word=dictionary,\n",
    "                                         num_topics=n_topics)\n",
    "    # 显示topic\n",
    "    #lda_model.show_topics()\n",
    "    return lda_model"
   ]
  },
  {
   "cell_type": "code",
   "execution_count": null,
   "metadata": {},
   "outputs": [],
   "source": [
    "con_Fan = topicModel(con_FansComments).show_topics()\n",
    "int_Fan = topicModel(int_FansComments).show_topics()\n",
    "con_Oth = topicModel(con_OtherComments).show_topics()\n",
    "int_Oth = topicModel(int_OtherComments).show_topics()"
   ]
  },
  {
   "cell_type": "code",
   "execution_count": null,
   "metadata": {},
   "outputs": [],
   "source": [
    "re.findall(u\"[\\u4e00-\\u9fa5]+\",con_Fan[0][1])"
   ]
  },
  {
   "cell_type": "code",
   "execution_count": null,
   "metadata": {},
   "outputs": [],
   "source": [
    "model_1 = [re.findall(u\"[\\u4e00-\\u9fa5]+\",x[1]) for x in con_Fan]\n",
    "model_2 = [re.findall(u\"[\\u4e00-\\u9fa5]+\",x[1]) for x in int_Fan]\n",
    "model_3 = [re.findall(u\"[\\u4e00-\\u9fa5]+\",x[1]) for x in con_Oth]\n",
    "model_4 = [re.findall(u\"[\\u4e00-\\u9fa5]+\",x[1]) for x in int_Oth]"
   ]
  },
  {
   "cell_type": "code",
   "execution_count": null,
   "metadata": {},
   "outputs": [],
   "source": [
    "MediaFan\n",
    "InternetCelebirtyFan\n",
    "MediaFan\n",
    "InternetCelebitryFan"
   ]
  },
  {
   "cell_type": "code",
   "execution_count": null,
   "metadata": {},
   "outputs": [],
   "source": [
    "model_1"
   ]
  },
  {
   "cell_type": "code",
   "execution_count": null,
   "metadata": {},
   "outputs": [],
   "source": [
    "model_2"
   ]
  },
  {
   "cell_type": "code",
   "execution_count": null,
   "metadata": {},
   "outputs": [],
   "source": [
    "model_3"
   ]
  },
  {
   "cell_type": "code",
   "execution_count": null,
   "metadata": {},
   "outputs": [],
   "source": [
    "model_4"
   ]
  },
  {
   "cell_type": "code",
   "execution_count": null,
   "metadata": {},
   "outputs": [],
   "source": [
    "def add_weight(df):\n",
    "    weight = df['Like_count']//2 #两个赞算一个评论\n",
    "    df['weight']=weight #增加一个column记录权重\n",
    "\n",
    "    #按赞的大小排序\n",
    "    df = df.sort_values(by = 'Like_count',ascending = False)\n",
    "\n",
    "    #根据权重增加该评论数量\n",
    "    weight_mediacom=df.copy()\n",
    "    for i in range(len(df)):\n",
    "        row = df.iloc[i]\n",
    "        if row['weight']>0:\n",
    "            weight_mediacom = weight_mediacom.append([pd.DataFrame(row).T]*int(row['weight']))\n",
    "        else:#循环到没有赞的评论则退出\n",
    "            break\n",
    "    return weight_mediacom"
   ]
  },
  {
   "cell_type": "code",
   "execution_count": null,
   "metadata": {},
   "outputs": [],
   "source": [
    "con_FansComments\n",
    "con_OtherComments\n",
    "int_FansComments\n",
    "int_OtherComments"
   ]
  },
  {
   "cell_type": "code",
   "execution_count": null,
   "metadata": {},
   "outputs": [],
   "source": [
    "con_FansPureComments = con_FansComments[['Like_count','Comments']]\n",
    "con_OtherPureComments = con_OtherComments[['Like_count','Comments']]\n",
    "int_FansPureComments = int_FansComments[['Like_count','Comments']]\n",
    "int_OtherPureComments = int_OtherComments[['Like_count','Comments']]"
   ]
  },
  {
   "cell_type": "code",
   "execution_count": null,
   "metadata": {},
   "outputs": [],
   "source": [
    "con_FansPureComments = add_weight(con_FansPureComments)\n",
    "con_OtherPureComments = add_weight(con_OtherPureComments)\n",
    "int_FansPureComments = add_weight(int_FansPureComments)\n",
    "int_OtherPureComments = add_weight(int_OtherPureComments)"
   ]
  },
  {
   "cell_type": "code",
   "execution_count": null,
   "metadata": {},
   "outputs": [],
   "source": [
    "con_FansPureComments.head()"
   ]
  },
  {
   "cell_type": "code",
   "execution_count": null,
   "metadata": {},
   "outputs": [],
   "source": [
    "int_FansPureComments.shape"
   ]
  },
  {
   "cell_type": "code",
   "execution_count": null,
   "metadata": {},
   "outputs": [],
   "source": [
    "int_FansPureComments[int_FansPureComments['Comments'].str.contains('开枪')]"
   ]
  },
  {
   "cell_type": "code",
   "execution_count": null,
   "metadata": {},
   "outputs": [],
   "source": [
    "con_FansPure = topicModel(con_FansPureComments).show_topics()\n",
    "con_OtherPure = topicModel(con_OtherPureComments).show_topics()\n",
    "int_FansPure = topicModel(int_FansPureComments).show_topics()\n",
    "int_OtherPure = topicModel(int_OtherPureComments).show_topics()"
   ]
  },
  {
   "cell_type": "code",
   "execution_count": null,
   "metadata": {},
   "outputs": [],
   "source": [
    "model_1 = [re.findall(u\"[\\u4e00-\\u9fa5]+\",x[1]) for x in con_FansPure]\n",
    "model_2 = [re.findall(u\"[\\u4e00-\\u9fa5]+\",x[1]) for x in con_OtherPure]\n",
    "model_3 = [re.findall(u\"[\\u4e00-\\u9fa5]+\",x[1]) for x in int_FansPure]\n",
    "model_4 = [re.findall(u\"[\\u4e00-\\u9fa5]+\",x[1]) for x in int_OtherPure]"
   ]
  },
  {
   "cell_type": "code",
   "execution_count": null,
   "metadata": {},
   "outputs": [],
   "source": []
  },
  {
   "cell_type": "code",
   "execution_count": null,
   "metadata": {},
   "outputs": [],
   "source": [
    "model_1"
   ]
  },
  {
   "cell_type": "code",
   "execution_count": null,
   "metadata": {},
   "outputs": [],
   "source": [
    "model_2"
   ]
  },
  {
   "cell_type": "code",
   "execution_count": null,
   "metadata": {},
   "outputs": [],
   "source": [
    "model_3"
   ]
  },
  {
   "cell_type": "code",
   "execution_count": null,
   "metadata": {},
   "outputs": [],
   "source": [
    "model_4"
   ]
  },
  {
   "cell_type": "code",
   "execution_count": null,
   "metadata": {},
   "outputs": [],
   "source": []
  },
  {
   "cell_type": "code",
   "execution_count": null,
   "metadata": {},
   "outputs": [],
   "source": []
  },
  {
   "cell_type": "code",
   "execution_count": null,
   "metadata": {},
   "outputs": [],
   "source": [
    "topicModel(con_FansPureComments).show_topics()"
   ]
  },
  {
   "cell_type": "code",
   "execution_count": null,
   "metadata": {},
   "outputs": [],
   "source": [
    "topicModel(con_OtherPureComments).show_topics()"
   ]
  },
  {
   "cell_type": "code",
   "execution_count": null,
   "metadata": {},
   "outputs": [],
   "source": [
    "topicModel(int_FansPureComments).show_topics()"
   ]
  },
  {
   "cell_type": "code",
   "execution_count": null,
   "metadata": {},
   "outputs": [],
   "source": [
    "topicModel(int_OtherPureComments).show_topics()"
   ]
  },
  {
   "cell_type": "code",
   "execution_count": null,
   "metadata": {},
   "outputs": [],
   "source": []
  },
  {
   "cell_type": "code",
   "execution_count": null,
   "metadata": {},
   "outputs": [],
   "source": [
    "# 只要满足下面的一个特征，就被认为是粉丝\n",
    "firstFeatures = [\n",
    "    'KUN',\n",
    "    '坤',\n",
    "    #'徐坤',\n",
    "    #'蔡先生',\n",
    "    #'蔡大爷',\n",
    "    #'蔡代表',\n",
    "    #'蔡老师',\n",
    "    #'蔡先森',\n",
    "    #'蔡夫人',\n",
    "    #'蔡PD',\n",
    "    #'蔡包',\n",
    "    #'小蔡',\n",
    "    'CXK',\n",
    "    '菜菜',\n",
    "    #'蔡葵',\n",
    "    #'蔡蔡',\n",
    "    #'蔡菜',\n",
    "    #'小葵',\n",
    "    #'葵葵',\n",
    "    #'葵花',\n",
    "    #'葵奎',\n",
    "    #'奎葵',\n",
    "    #'蔡大奎',\n",
    "    #'甜葵',\n",
    "    #'奶葵',\n",
    "    #'坤坤',\n",
    "    '困困',\n",
    "    '菜困',\n",
    "    #'蔡困',\n",
    "    '小困',\n",
    "    #'小坤',\n",
    "    #'坤哥',\n",
    "    '爱困',\n",
    "    #'爱坤',\n",
    "    '802',\n",
    "    '82',\n",
    "    'AUGUST',\n",
    "    '八月',\n",
    "    '蔡',\n",
    "    '葵'\n",
    "]"
   ]
  },
  {
   "cell_type": "code",
   "execution_count": null,
   "metadata": {},
   "outputs": [],
   "source": []
  },
  {
   "cell_type": "code",
   "execution_count": null,
   "metadata": {},
   "outputs": [],
   "source": []
  }
 ],
 "metadata": {
  "kernelspec": {
   "display_name": "Python 3",
   "language": "python",
   "name": "python3"
  },
  "language_info": {
   "codemirror_mode": {
    "name": "ipython",
    "version": 3
   },
   "file_extension": ".py",
   "mimetype": "text/x-python",
   "name": "python",
   "nbconvert_exporter": "python",
   "pygments_lexer": "ipython3",
   "version": "3.7.3"
  }
 },
 "nbformat": 4,
 "nbformat_minor": 2
}
