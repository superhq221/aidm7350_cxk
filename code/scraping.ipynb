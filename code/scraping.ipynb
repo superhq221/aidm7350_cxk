{
 "cells": [
  {
   "cell_type": "code",
   "execution_count": 1,
   "metadata": {},
   "outputs": [],
   "source": [
    "# -*- coding: utf-8 -*-\n",
    "import bs4 as bs4\n",
    "import requests\n",
    "import time\n",
    "import os\n",
    "import csv\n",
    "import sys\n",
    "import json\n",
    "from bs4 import BeautifulSoup\n",
    "import importlib\n",
    "importlib.reload(sys)\n",
    "import pandas as pd"
   ]
  },
  {
   "cell_type": "code",
   "execution_count": 2,
   "metadata": {},
   "outputs": [],
   "source": [
    "def get_page(max_id, id_type):\n",
    "    params = {\n",
    "        'max_id': max_id,\n",
    "        'max_id_type': id_type\n",
    "    }\n",
    "    try:\n",
    "        r = requests.get(url, params=params, headers=headers)\n",
    "        if r.status_code == 200:\n",
    "            return r.json()\n",
    "    except requests.ConnectionError as e:\n",
    "        print('error', e.args)\n",
    "\n",
    "\n",
    "def parse_page(jsondata):\n",
    "    if jsondata:\n",
    "        items = jsondata.get('data')\n",
    "        item_max_id = {}\n",
    "        item_max_id['max_id'] = items['max_id']\n",
    "        item_max_id['max_id_type'] = items['max_id_type']\n",
    "        return item_max_id\n",
    "\n",
    "def write_csv(jsondata):\n",
    "    datas = jsondata.get('data').get('data')\n",
    "    for data in datas:\n",
    "        created_at = data.get(\"created_at\")\n",
    "        like_count = data.get(\"like_count\")\n",
    "        source = data.get(\"source\")\n",
    "        floor_number = data.get(\"floor_number\")\n",
    "        username = data.get(\"user\").get(\"screen_name\")\n",
    "        comment = data.get(\"text\")\n",
    "        comment = BeautifulSoup(comment, 'lxml').get_text()\n",
    "        writer.writerow([username, created_at, like_count, floor_number, source,\n",
    "                         json.dumps(comment,  ensure_ascii=False)])"
   ]
  },
  {
   "cell_type": "code",
   "execution_count": 3,
   "metadata": {},
   "outputs": [],
   "source": [
    "def get_comment(postname,maxpage):\n",
    "    path = postname+\".csv\"\n",
    "    csvfile = open(path, 'w',encoding = 'utf-8')\n",
    "    writer = csv.writer(csvfile)\n",
    "    writer.writerow(['Usename', 'Time', 'Like_count', 'Floor_number', 'Sourse', 'Comments'])\n",
    "    \n",
    "    m_id = 0\n",
    "    id_type = 0\n",
    "    for page in range(0, maxpage):\n",
    "        print(page)\n",
    "        jsondata = get_page(m_id, id_type)\n",
    "        write_csv(jsondata)\n",
    "        results = parse_page(jsondata)\n",
    "        time.sleep(2)\n",
    "        m_id = results['max_id']\n",
    "        id_type = results['max_id_type']"
   ]
  },
  {
   "cell_type": "code",
   "execution_count": 4,
   "metadata": {},
   "outputs": [],
   "source": [
    "#以下信息需要在移动端微博网址按F12查看"
   ]
  },
  {
   "cell_type": "code",
   "execution_count": 5,
   "metadata": {},
   "outputs": [],
   "source": [
    "#url 要爬的微博的url\n",
    "mgyl = 'https://m.weibo.cn/comments/hotflow?id=4481744478915999&mid=4481744478915999&max_id_type=0'\n",
    "wyyl2 = 'https://m.weibo.cn/comments/hotflow?id=4481638157280073&mid=4481638157280073&max_id=141453471244892&max_id_type=0'\n",
    "wbzy3 = 'https://m.weibo.cn/comments/hotflow?id=4484279411209957&mid=4484279411209957&max_id=380872289363295&max_id_type=0'\n",
    "ykcb4 = 'https://m.weibo.cn/comments/hotflow?id=4479095343587249&mid=4479095343587249&max_id=139254293217320&max_id_type=0'\n",
    "newwbzy = \"https://m.weibo.cn/comments/hotflow?id=4486813396158970&mid=4486813396158970&max_id=187908153311423&max_id_type=0\"\n",
    "fansdata1 = 'https://m.weibo.cn/comments/hotflow?id=4497211683074390&mid=4497211683074390&max_id=172378186386082&max_id_type=0'\n",
    "#qnjf = "
   ]
  },
  {
   "cell_type": "code",
   "execution_count": 6,
   "metadata": {},
   "outputs": [],
   "source": [
    "#cookie \n",
    "cookie2 = '_T_WM=24945038742; WEIBOCN_FROM=1110006030; XSRF-TOKEN=0d63c6; SCF=AvONt66ArPTX8_cBpSiV07PSQoppkvOSOzW4yo9CNedwlFghyemdy4efYKrRKObdfdlxQ41F0NA5Gr7ItLWJ_dw.; SUB=_2A25zt4T6DeRhGeBI6lsT8CzNyjqIHXVRWyyyrDV6PUJbktANLVegkW1NRon3eW2RlVkxEW1O6WVU51jR8tAZsLSH; SUBP=0033WrSXqPxfM725Ws9jqgMF55529P9D9WF_WVs80jA2IHjnUKI_TiOb5JpX5KzhUgL.FoqceK.EehzpeKq2dJLoIpXLxKMLBoBLB-zLxKnL1KqL1hUkdc4jwg83dc_Ldntt; SUHB=09Ptri5_Sjckgv; SSOLoginState=1588851860; MLOGIN=1; M_WEIBOCN_PARAMS=oid%3D4481638157280073%26luicode%3D20000061%26lfid%3D4481638157280073%26uicode%3D10000011%26fid%3D100103type%253D1%2526q%253D%25E8%2594%25A1%25E5%25BE%2590%25E5%259D%25A4%25E5%259B%259E%25E5%25BA%2594%25E8%25BF%2587%25E5%25BA%25A6%25E5%2585%25B3%25E6%25B3%25A8%2B4D'\n",
    "cookie3 = '_T_WM=24945038742; WEIBOCN_FROM=1110006030; ALF=1591458521; SCF=AvONt66ArPTX8_cBpSiV07PSQoppkvOSOzW4yo9CNedwvKetXv0XS3zYTzpRFodjN-wh-k-zlqxy101NQ3tZY40.; SUB=_2A25zsF2LDeRhGeBI6lsT8CzNyjqIHXVRW2PDrDV6PUJbktANLXj-kW1NRon3eQ-w8ry8veIjlmiLXf2eMWawqJl3; SUBP=0033WrSXqPxfM725Ws9jqgMF55529P9D9WF_WVs80jA2IHjnUKI_TiOb5JpX5KzhUgL.FoqceK.EehzpeKq2dJLoIpXLxKMLBoBLB-zLxKnL1KqL1hUkdc4jwg83dc_Ldntt; SUHB=0pHh4Gbn0f7koS; SSOLoginState=1588866523; MLOGIN=1; XSRF-TOKEN=145c96; M_WEIBOCN_PARAMS=luicode%3D10000011%26lfid%3D1076031878335471%26uicode%3D10000011%26fid%3D100103type%253D1%2526q%253D%2523%25E8%2594%25A1%25E5%25BE%2590%25E5%259D%25A4%25E8%25A2%25AB%25E8%2599%259E%25E4%25B9%25A6%25E6%25AC%25A3%25E8%25AF%25B4%25E6%2599%2595'\n",
    "cookie4 = '_T_WM=24945038742; ALF=1591679275; WEIBOCN_FROM=1110006030; SUBP=0033WrSXqPxfM725Ws9jqgMF55529P9D9WF_WVs80jA2IHjnUKI_TiOb5JpX5K-hUgL.FoqceK.EehzpeKq2dJLoIpXLxKMLBoBLB-zLxKnL1KqL1hUkdc4jwg83dc_Ldntt; SCF=AvONt66ArPTX8_cBpSiV07PSQoppkvOSOzW4yo9CNedw62iPlHa7JU7GFLj2mzfpNPuePvWQbRmTzWh-7C1rCKo.; SUB=_2A25zs-kcDeRhGeBI6lsT8CzNyjqIHXVRX_dUrDV6PUJbktAfLWLskW1NRon3eQ92FsImzE7nGylUYdlm2rWWu3dx; SUHB=0V512adM_LO-7T; SSOLoginState=1589090642; MLOGIN=1; XSRF-TOKEN=726ffe; M_WEIBOCN_PARAMS=luicode%3D10000011%26lfid%3D2304132311062024_-_WEIBO_SECOND_PROFILE_WEIBO%26fid%3D100103type%253D401%2526t%253D10%2526q%253D%25E5%25AF%25BC%25E5%25B8%2588cut%26uicode%3D10000011'\n",
    "fan_cookie1 = '_T_WM=24945038742; ALF=1591679275; WEIBOCN_FROM=1110006030; SUBP=0033WrSXqPxfM725Ws9jqgMF55529P9D9WF_WVs80jA2IHjnUKI_TiOb5JpX5K-hUgL.FoqceK.EehzpeKq2dJLoIpXLxKMLBoBLB-zLxKnL1KqL1hUkdc4jwg83dc_Ldntt; SCF=AvONt66ArPTX8_cBpSiV07PSQoppkvOSOzW4yo9CNedw62iPlHa7JU7GFLj2mzfpNPuePvWQbRmTzWh-7C1rCKo.; SUB=_2A25zs-kcDeRhGeBI6lsT8CzNyjqIHXVRX_dUrDV6PUJbktAfLWLskW1NRon3eQ92FsImzE7nGylUYdlm2rWWu3dx; SUHB=0V512adM_LO-7T; SSOLoginState=1589090642; MLOGIN=1; XSRF-TOKEN=d0a83e; M_WEIBOCN_PARAMS=luicode%3D10000011%26lfid%3D1005052839635900%26fid%3D2310022839635900_-_HOTMBLOG%26uicode%3D10000011'\n",
    "cookie5 = '_T_WM=24945038742; ALF=1591679275; SUBP=0033WrSXqPxfM725Ws9jqgMF55529P9D9WF_WVs80jA2IHjnUKI_TiOb5JpX5K-hUgL.FoqceK.EehzpeKq2dJLoIpXLxKMLBoBLB-zLxKnL1KqL1hUkdc4jwg83dc_Ldntt; SCF=AvONt66ArPTX8_cBpSiV07PSQoppkvOSOzW4yo9CNedw62iPlHa7JU7GFLj2mzfpNPuePvWQbRmTzWh-7C1rCKo.; SUB=_2A25zs-kcDeRhGeBI6lsT8CzNyjqIHXVRX_dUrDV6PUJbktAfLWLskW1NRon3eQ92FsImzE7nGylUYdlm2rWWu3dx; SUHB=0V512adM_LO-7T; XSRF-TOKEN=2adf43; WEIBOCN_FROM=1110006030; MLOGIN=1; M_WEIBOCN_PARAMS=uicode%3D10000011%26fid%3D100103type%253D1%2526q%253D%25E4%25BA%25B2%25E4%25BA%25B2%25E7%25BB%2584%25E8%25AE%25A9%25E8%2594%25A1%25E5%25BE%2590%25E5%259D%25A4%25E4%25B8%2580%25E8%25B5%25B7%25E5%2589%25AA%25E5%2588%2580%25E6%2589%258Bwink'"
   ]
  },
  {
   "cell_type": "code",
   "execution_count": 7,
   "metadata": {},
   "outputs": [],
   "source": [
    "#地址栏上的地址\n",
    "referer2 = 'https://m.weibo.cn/detail/4481744478915999'\n",
    "referer3 = 'https://m.weibo.cn/detail/4484279411209957'\n",
    "referer4 = 'https://m.weibo.cn/detail/4479095343587249'\n",
    "fan_ref1 = 'https://m.weibo.cn/detail/4497211683074390'\n",
    "referer5 = \"https://m.weibo.cn/detail/4486813396158970\""
   ]
  },
  {
   "cell_type": "code",
   "execution_count": 8,
   "metadata": {},
   "outputs": [],
   "source": [
    "# 要爬取热评的起始url\n",
    "url = newwbzy #在这里改url\n",
    "headers = {\n",
    "    'Cookie':cookie5, #在这里改cookie\n",
    "    'Referer':referer5,  #在这里改referer\n",
    "    'User-Agent': 'Mozilla/5.0 (Macintosh; Intel Mac OS X 10_15_3) AppleWebKit/537.36 (KHTML, like Gecko) Chrome/80.0.3987.122 Safari/537.36',\n",
    "    'X-Requested-With': 'XMLHttpRequest'\n",
    "}\n",
    "\n",
    "postname = 'newwbzy' # 在这里改要爬的微博博主的名字，作为文件名\n",
    "maxpage = 690 # 微博评论总数/10 or 要爬的评论数/10\n"
   ]
  },
  {
   "cell_type": "code",
   "execution_count": 9,
   "metadata": {},
   "outputs": [
    {
     "name": "stdout",
     "output_type": "stream",
     "text": [
      "0\n",
      "1\n",
      "2\n",
      "3\n",
      "4\n",
      "5\n",
      "6\n",
      "7\n",
      "8\n",
      "9\n",
      "10\n",
      "11\n",
      "12\n",
      "13\n",
      "14\n",
      "15\n",
      "16\n",
      "17\n",
      "18\n",
      "19\n",
      "20\n",
      "21\n",
      "22\n",
      "23\n",
      "24\n",
      "25\n",
      "26\n",
      "27\n",
      "28\n",
      "29\n",
      "30\n",
      "31\n",
      "32\n",
      "33\n",
      "34\n",
      "35\n",
      "36\n",
      "37\n",
      "38\n",
      "39\n"
     ]
    },
    {
     "ename": "AttributeError",
     "evalue": "'NoneType' object has no attribute 'get'",
     "output_type": "error",
     "traceback": [
      "\u001b[1;31m---------------------------------------------------------------------------\u001b[0m",
      "\u001b[1;31mAttributeError\u001b[0m                            Traceback (most recent call last)",
      "\u001b[1;32m<ipython-input-9-584691167209>\u001b[0m in \u001b[0;36m<module>\u001b[1;34m\u001b[0m\n\u001b[0;32m      9\u001b[0m     \u001b[0mprint\u001b[0m\u001b[1;33m(\u001b[0m\u001b[0mpage\u001b[0m\u001b[1;33m)\u001b[0m\u001b[1;33m\u001b[0m\u001b[1;33m\u001b[0m\u001b[0m\n\u001b[0;32m     10\u001b[0m     \u001b[0mjsondata\u001b[0m \u001b[1;33m=\u001b[0m \u001b[0mget_page\u001b[0m\u001b[1;33m(\u001b[0m\u001b[0mm_id\u001b[0m\u001b[1;33m,\u001b[0m \u001b[0mid_type\u001b[0m\u001b[1;33m)\u001b[0m\u001b[1;33m\u001b[0m\u001b[1;33m\u001b[0m\u001b[0m\n\u001b[1;32m---> 11\u001b[1;33m     \u001b[0mwrite_csv\u001b[0m\u001b[1;33m(\u001b[0m\u001b[0mjsondata\u001b[0m\u001b[1;33m)\u001b[0m\u001b[1;33m\u001b[0m\u001b[1;33m\u001b[0m\u001b[0m\n\u001b[0m\u001b[0;32m     12\u001b[0m     \u001b[0mresults\u001b[0m \u001b[1;33m=\u001b[0m \u001b[0mparse_page\u001b[0m\u001b[1;33m(\u001b[0m\u001b[0mjsondata\u001b[0m\u001b[1;33m)\u001b[0m\u001b[1;33m\u001b[0m\u001b[1;33m\u001b[0m\u001b[0m\n\u001b[0;32m     13\u001b[0m     \u001b[0mtime\u001b[0m\u001b[1;33m.\u001b[0m\u001b[0msleep\u001b[0m\u001b[1;33m(\u001b[0m\u001b[1;36m3\u001b[0m\u001b[1;33m)\u001b[0m\u001b[1;33m\u001b[0m\u001b[1;33m\u001b[0m\u001b[0m\n",
      "\u001b[1;32m<ipython-input-2-9934081f14aa>\u001b[0m in \u001b[0;36mwrite_csv\u001b[1;34m(jsondata)\u001b[0m\n\u001b[0;32m     21\u001b[0m \u001b[1;33m\u001b[0m\u001b[0m\n\u001b[0;32m     22\u001b[0m \u001b[1;32mdef\u001b[0m \u001b[0mwrite_csv\u001b[0m\u001b[1;33m(\u001b[0m\u001b[0mjsondata\u001b[0m\u001b[1;33m)\u001b[0m\u001b[1;33m:\u001b[0m\u001b[1;33m\u001b[0m\u001b[1;33m\u001b[0m\u001b[0m\n\u001b[1;32m---> 23\u001b[1;33m     \u001b[0mdatas\u001b[0m \u001b[1;33m=\u001b[0m \u001b[0mjsondata\u001b[0m\u001b[1;33m.\u001b[0m\u001b[0mget\u001b[0m\u001b[1;33m(\u001b[0m\u001b[1;34m'data'\u001b[0m\u001b[1;33m)\u001b[0m\u001b[1;33m.\u001b[0m\u001b[0mget\u001b[0m\u001b[1;33m(\u001b[0m\u001b[1;34m'data'\u001b[0m\u001b[1;33m)\u001b[0m\u001b[1;33m\u001b[0m\u001b[1;33m\u001b[0m\u001b[0m\n\u001b[0m\u001b[0;32m     24\u001b[0m     \u001b[1;32mfor\u001b[0m \u001b[0mdata\u001b[0m \u001b[1;32min\u001b[0m \u001b[0mdatas\u001b[0m\u001b[1;33m:\u001b[0m\u001b[1;33m\u001b[0m\u001b[1;33m\u001b[0m\u001b[0m\n\u001b[0;32m     25\u001b[0m         \u001b[0mcreated_at\u001b[0m \u001b[1;33m=\u001b[0m \u001b[0mdata\u001b[0m\u001b[1;33m.\u001b[0m\u001b[0mget\u001b[0m\u001b[1;33m(\u001b[0m\u001b[1;34m\"created_at\"\u001b[0m\u001b[1;33m)\u001b[0m\u001b[1;33m\u001b[0m\u001b[1;33m\u001b[0m\u001b[0m\n",
      "\u001b[1;31mAttributeError\u001b[0m: 'NoneType' object has no attribute 'get'"
     ]
    }
   ],
   "source": [
    "path = postname+\".csv\"\n",
    "csvfile = open(path, 'w',encoding = 'utf-8')\n",
    "writer = csv.writer(csvfile)\n",
    "writer.writerow(['Usename', 'Time', 'Like_count', 'Floor_number', 'Sourse', 'Comments'])\n",
    "    \n",
    "m_id = 0\n",
    "id_type = 0\n",
    "for page in range(0, maxpage):\n",
    "    print(page)\n",
    "    jsondata = get_page(m_id, id_type)\n",
    "    write_csv(jsondata)\n",
    "    results = parse_page(jsondata)\n",
    "    time.sleep(3)\n",
    "    m_id = results['max_id']\n",
    "    id_type = results['max_id_type']"
   ]
  },
  {
   "cell_type": "code",
   "execution_count": null,
   "metadata": {},
   "outputs": [],
   "source": [
    "#查看爬取下来的文件\n",
    "f = pd.read_csv('ykcb.csv',encoding='utf-8')\n",
    "f"
   ]
  },
  {
   "cell_type": "code",
   "execution_count": null,
   "metadata": {},
   "outputs": [],
   "source": [
    "#f = pd.read_csv('wbzy.csv',encoding='utf-8')"
   ]
  },
  {
   "cell_type": "code",
   "execution_count": null,
   "metadata": {},
   "outputs": [],
   "source": [
    "path = postname+\".csv\"\n",
    "    csvfile = open(path, 'w',encoding = 'utf-8')\n",
    "    writer = csv.writer(csvfile)\n",
    "    writer.writerow(['Usename', 'Time', 'Like_count', 'Floor_number', 'Sourse', 'Comments'])"
   ]
  }
 ],
 "metadata": {
  "kernelspec": {
   "display_name": "Python 3",
   "language": "python",
   "name": "python3"
  },
  "language_info": {
   "codemirror_mode": {
    "name": "ipython",
    "version": 3
   },
   "file_extension": ".py",
   "mimetype": "text/x-python",
   "name": "python",
   "nbconvert_exporter": "python",
   "pygments_lexer": "ipython3",
   "version": "3.7.4"
  }
 },
 "nbformat": 4,
 "nbformat_minor": 2
}
